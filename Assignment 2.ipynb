{
 "cells": [
  {
   "cell_type": "markdown",
   "metadata": {},
   "source": [
    "Question 1. Create the below pattern using nested for loop in Python.\n",
    "\n",
    "     * \n",
    "     * * \n",
    "     * * * \n",
    "     * * * * \n",
    "     * * * * * \n",
    "     * * * * \n",
    "     * * * \n",
    "     * * \n",
    "     * \n"
   ]
  },
  {
   "cell_type": "code",
   "execution_count": 50,
   "metadata": {},
   "outputs": [
    {
     "name": "stdout",
     "output_type": "stream",
     "text": [
      "*\n",
      "* *\n",
      "* * *\n",
      "* * * *\n",
      "* * * * *\n",
      "* * * * \n",
      "* * * \n",
      "* * \n",
      "* \n"
     ]
    }
   ],
   "source": [
    "a = \"*\"\n",
    "for i in range(0,5):\n",
    "    print(a)\n",
    "    a = a + \" \" + \"*\"\n",
    "    if i == 4:\n",
    "        for i in range(8,0,-2):\n",
    "            print(a[:i])"
   ]
  },
  {
   "cell_type": "markdown",
   "metadata": {},
   "source": [
    "2. Write a Python program to reverse a word after accepting the input from the user."
   ]
  },
  {
   "cell_type": "code",
   "execution_count": 52,
   "metadata": {},
   "outputs": [
    {
     "name": "stdout",
     "output_type": "stream",
     "text": [
      "Enter the word: Akshay Lamba\n",
      "abmaL yahskA\n"
     ]
    }
   ],
   "source": [
    "word = input(\"Enter the word: \")\n",
    "word = word[-1::-1]\n",
    "print(word)"
   ]
  }
 ],
 "metadata": {
  "kernelspec": {
   "display_name": "Python 3",
   "language": "python",
   "name": "python3"
  },
  "language_info": {
   "codemirror_mode": {
    "name": "ipython",
    "version": 3
   },
   "file_extension": ".py",
   "mimetype": "text/x-python",
   "name": "python",
   "nbconvert_exporter": "python",
   "pygments_lexer": "ipython3",
   "version": "3.8.3"
  }
 },
 "nbformat": 4,
 "nbformat_minor": 4
}
